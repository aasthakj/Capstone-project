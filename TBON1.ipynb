{
 "cells": [
  {
   "cell_type": "markdown",
   "metadata": {
    "collapsed": true
   },
   "source": [
    "# The Battle of the Neighborhoods"
   ]
  },
  {
   "cell_type": "markdown",
   "metadata": {},
   "source": [
    "## Introduction"
   ]
  },
  {
   "cell_type": "markdown",
   "metadata": {},
   "source": [
    "The City of New York, is the one of the most famous cities in the world. It is diverse in culture. It provides lot of business oppourtunities and business friendly environment. It has attracted many different players into the market. The city is a major center for banking and finance, retailing, world trade, transportation,tourism, real estate, new media, traditional media, advertising, legal services, accountancy, insurance, theater, fashion, and the arts in the United States. Apart from that, the city is famous for the myriad of cuisines it offers. \n",
    "\n",
    "They say 'if you make it here, you can make it anywhere'. Our aim for this project would be to predict what borough of New York must one choose if they were to open their own restaurant. "
   ]
  },
  {
   "cell_type": "markdown",
   "metadata": {},
   "source": [
    "## Problem"
   ]
  },
  {
   "cell_type": "markdown",
   "metadata": {},
   "source": [
    "The city of New York offers a variety of cuisines and restaurants. Hence, in order to survive in such a competitive market it is very important to startegically plan.\n",
    "Various factors need to be taken into consideration in order to decide on the location such as :\n",
    "1. Population\n",
    "2. Farmers Markets, Wholesale markets etc nearby so that the ingredients can be\n",
    "purchased? \n",
    "4. Is there any landmark nearby i.e. Timesquare, Central Park\n",
    "5. Competitors\n",
    "6. Cuisines\n",
    "7. Segmentation of the Borough\n",
    "8. Unexplored/Sparse areas\n"
   ]
  },
  {
   "cell_type": "markdown",
   "metadata": {},
   "source": [
    "## Data"
   ]
  },
  {
   "cell_type": "markdown",
   "metadata": {},
   "source": [
    "We will be using the below datasets for analysing NYC. \n",
    "\n",
    "1. Dataset 1 : Neighborhood has a total of 5 boroughs and 306 neighborhoods. In order to segement the\n",
    "neighborhoods and explore them, we will essentially need a dataset that contains the 5 boroughs and\n",
    "the neighborhoods that exist in each borough as well as the the latitude and logitude coordinates of\n",
    "each neighborhood.\n",
    "This dataset exists for free on the web. Link to the dataset is :\n",
    "https://geo.nyu.edu/catalog/nyu_2451_34572"
   ]
  },
  {
   "cell_type": "markdown",
   "metadata": {},
   "source": [
    "2. Second data which will be used is the DOHMH Farmers Markets and Food Boxes dataset. In\n",
    "this we will be using the data of Farmers Markets.\n",
    "https://data.cityofnewyork.us/dataset/DOHMH-Farmers-Markets-and-Food-Boxes/8vwk-6iz2\n",
    "Website-https://www.grownyc.org/greenmarketco/foodbox"
   ]
  },
  {
   "cell_type": "markdown",
   "metadata": {},
   "source": [
    "3. New York Population\n",
    "New York City Demographics\n",
    "Cuisine of New York city\n",
    "https://en.wikipedia.org/wiki/New_York_City\n",
    "https://en.wikipedia.org/wiki/Economy_of_New_York_City\n",
    "https://en.wikipedia.org/wiki/Portal:New_York_City\n",
    "https://en.wikipedia.org/wiki/Cuisine_of_New_York_City"
   ]
  },
  {
   "cell_type": "markdown",
   "metadata": {},
   "source": [
    "4. Foursquare API will also be leveraged\n"
   ]
  },
  {
   "cell_type": "code",
   "execution_count": null,
   "metadata": {},
   "outputs": [],
   "source": []
  }
 ],
 "metadata": {
  "kernelspec": {
   "display_name": "Python 3.6",
   "language": "python",
   "name": "python3"
  },
  "language_info": {
   "codemirror_mode": {
    "name": "ipython",
    "version": 3
   },
   "file_extension": ".py",
   "mimetype": "text/x-python",
   "name": "python",
   "nbconvert_exporter": "python",
   "pygments_lexer": "ipython3",
   "version": "3.6.9"
  }
 },
 "nbformat": 4,
 "nbformat_minor": 1
}
